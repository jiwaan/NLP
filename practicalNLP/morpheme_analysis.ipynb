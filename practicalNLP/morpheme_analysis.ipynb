{
 "cells": [
  {
   "attachments": {},
   "cell_type": "markdown",
   "metadata": {},
   "source": [
    "## 형태소 분석 실습\n",
    "= 자연어처리 전처리 실습\n",
    "- 대표적인 데이터 전처리 도구\n",
    "- NLTK\n",
    "    - 많이 느리지만 성능이 좋은 도구\n",
    "    - 연구 개발용으로만 사용한다. (느려서!)\n",
    "    - 분류 모델, token화 모델, stemming 모델(단어를 원형화), tagging, pharsing(형태소 분석), 의존 구문 분석(다른 단어와 무슨 관계를 가지고 있는지), semantic inference(차가 추론 할 수 있는지에 따라!, 어떤 종류의 추론이 가능한지), standford 파서(자체적으로 가지고 있음)\n",
    "-Spacy\n",
    "    - 산업용으로 만들어진 조금 빠른 도구\n",
    "    - 서비스, 연구 개발 모두 쓰는데 문제가 없음, 대신 성능이 조금 떨어질 수도 있음\n",
    "    - spacy 영어 버전에서는 이거 씀\n",
    "    - 음성 tagging : 명명 ntt(사람이 사전에 정의해둔 단어를 뽑는 것)인식 / 어떤 종류의 엔티티 사용할 수 있는지 확인\n",
    "    - text가 포함되어 있느냐 !\n",
    "    - 단어 벡터화 제공\n",
    "- KoNLPy (한국어용)\n",
    "    - 위 두개는 영어용 도구, 라이브러리\n",
    "    - mecab이라는 형태소 분석 라이브러리임\n",
    "    - 실제 산업에 사용이 됩니다.\n",
    "    - 챗봇에 이 라이브러리가 이용됩니다\n",
    "    - api를 활용하되, 꼭 처리 되어야 하는 단어 등을 처리해서 domain에 잘 맞는 형태소 분석기를 사용합니다."
   ]
  },
  {
   "cell_type": "code",
   "execution_count": 2,
   "metadata": {},
   "outputs": [],
   "source": [
    "# 어절 단위로 counter vectorizer 한 후, \n",
    "# 표제어 추출과 (단어의 기본형 추출), 형태소 단위의 토큰을 사용할 수 있음\n",
    "# 4가지의 방식 !!\n",
    "# 각자 만들어져서 konlpy를 통해서만 쓸 수 있음\n",
    "# 다운받아야 하는 파일이 많음. path나 방법이 엄청 많음 !! 사전 작업이 필요함\n",
    "import nltk\n",
    "import KoNLPy\n",
    "import os\n",
    "import numpy as np\n",
    "import pandas as pd\n",
    "import \n",
    "\n",
    "!pip install datasets\n",
    "import datasets\n"
   ]
  },
  {
   "attachments": {},
   "cell_type": "markdown",
   "metadata": {},
   "source": [
    "기본적으로는 깃허브 안에 있는 거 접근해서 돌리는게 아니라, \n",
    "drive import 해서, 드라이브의 위치를 api\n",
    "- drive에 있는 걸 코랩을 통해서 내 드라이브에 저장하겠다는 뜻"
   ]
  },
  {
   "attachments": {},
   "cell_type": "markdown",
   "metadata": {},
   "source": [
    "from konlpy.tag import Mecab\n",
    "# 한국어 실습"
   ]
  },
  {
   "cell_type": "code",
   "execution_count": 5,
   "metadata": {},
   "outputs": [
    {
     "ename": "Exception",
     "evalue": "Install MeCab in order to use it: http://konlpy.org/en/latest/install/",
     "output_type": "error",
     "traceback": [
      "\u001b[1;31m---------------------------------------------------------------------------\u001b[0m",
      "\u001b[1;31mNameError\u001b[0m                                 Traceback (most recent call last)",
      "\u001b[1;32m~\\AppData\\Roaming\\Python\\Python39\\site-packages\\konlpy\\tag\\_mecab.py\u001b[0m in \u001b[0;36m__init__\u001b[1;34m(self, dicpath)\u001b[0m\n\u001b[0;32m     76\u001b[0m         \u001b[1;32mtry\u001b[0m\u001b[1;33m:\u001b[0m\u001b[1;33m\u001b[0m\u001b[1;33m\u001b[0m\u001b[0m\n\u001b[1;32m---> 77\u001b[1;33m             \u001b[0mself\u001b[0m\u001b[1;33m.\u001b[0m\u001b[0mtagger\u001b[0m \u001b[1;33m=\u001b[0m \u001b[0mTagger\u001b[0m\u001b[1;33m(\u001b[0m\u001b[1;34m'-d %s'\u001b[0m \u001b[1;33m%\u001b[0m \u001b[0mdicpath\u001b[0m\u001b[1;33m)\u001b[0m\u001b[1;33m\u001b[0m\u001b[1;33m\u001b[0m\u001b[0m\n\u001b[0m\u001b[0;32m     78\u001b[0m             \u001b[0mself\u001b[0m\u001b[1;33m.\u001b[0m\u001b[0mtagset\u001b[0m \u001b[1;33m=\u001b[0m \u001b[0mutils\u001b[0m\u001b[1;33m.\u001b[0m\u001b[0mread_json\u001b[0m\u001b[1;33m(\u001b[0m\u001b[1;34m'%s/data/tagset/mecab.json'\u001b[0m \u001b[1;33m%\u001b[0m \u001b[0mutils\u001b[0m\u001b[1;33m.\u001b[0m\u001b[0minstallpath\u001b[0m\u001b[1;33m)\u001b[0m\u001b[1;33m\u001b[0m\u001b[1;33m\u001b[0m\u001b[0m\n",
      "\u001b[1;31mNameError\u001b[0m: name 'Tagger' is not defined",
      "\nDuring handling of the above exception, another exception occurred:\n",
      "\u001b[1;31mException\u001b[0m                                 Traceback (most recent call last)",
      "\u001b[1;32m~\\AppData\\Local\\Temp/ipykernel_7392/927626603.py\u001b[0m in \u001b[0;36m<module>\u001b[1;34m\u001b[0m\n\u001b[0;32m      1\u001b[0m \u001b[1;32mfrom\u001b[0m \u001b[0mkonlpy\u001b[0m\u001b[1;33m.\u001b[0m\u001b[0mtag\u001b[0m \u001b[1;32mimport\u001b[0m \u001b[0mMecab\u001b[0m\u001b[1;33m\u001b[0m\u001b[1;33m\u001b[0m\u001b[0m\n\u001b[0;32m      2\u001b[0m \u001b[1;31m# 한국어 실습\u001b[0m\u001b[1;33m\u001b[0m\u001b[1;33m\u001b[0m\u001b[0m\n\u001b[1;32m----> 3\u001b[1;33m \u001b[0mmecab\u001b[0m \u001b[1;33m=\u001b[0m \u001b[0mMecab\u001b[0m\u001b[1;33m(\u001b[0m\u001b[1;33m)\u001b[0m\u001b[1;33m\u001b[0m\u001b[1;33m\u001b[0m\u001b[0m\n\u001b[0m\u001b[0;32m      4\u001b[0m \u001b[0msentence\u001b[0m \u001b[1;33m=\u001b[0m \u001b[1;34m'실용자연어처리 실습 진행중입니다.'\u001b[0m\u001b[1;33m\u001b[0m\u001b[1;33m\u001b[0m\u001b[0m\n\u001b[0;32m      5\u001b[0m \u001b[0mprint\u001b[0m\u001b[1;33m(\u001b[0m\u001b[0mmecab\u001b[0m\u001b[1;33m.\u001b[0m\u001b[0mmorphs\u001b[0m\u001b[1;33m(\u001b[0m\u001b[0msentence\u001b[0m\u001b[1;33m)\u001b[0m\u001b[1;33m)\u001b[0m\u001b[1;33m\u001b[0m\u001b[1;33m\u001b[0m\u001b[0m\n",
      "\u001b[1;32m~\\AppData\\Roaming\\Python\\Python39\\site-packages\\konlpy\\tag\\_mecab.py\u001b[0m in \u001b[0;36m__init__\u001b[1;34m(self, dicpath)\u001b[0m\n\u001b[0;32m     80\u001b[0m             \u001b[1;32mraise\u001b[0m \u001b[0mException\u001b[0m\u001b[1;33m(\u001b[0m\u001b[1;34m'The MeCab dictionary does not exist at \"%s\". Is the dictionary correctly installed?\\nYou can also try entering the dictionary path when initializing the Mecab class: \"Mecab(\\'/some/dic/path\\')\"'\u001b[0m \u001b[1;33m%\u001b[0m \u001b[0mdicpath\u001b[0m\u001b[1;33m)\u001b[0m\u001b[1;33m\u001b[0m\u001b[1;33m\u001b[0m\u001b[0m\n\u001b[0;32m     81\u001b[0m         \u001b[1;32mexcept\u001b[0m \u001b[0mNameError\u001b[0m\u001b[1;33m:\u001b[0m\u001b[1;33m\u001b[0m\u001b[1;33m\u001b[0m\u001b[0m\n\u001b[1;32m---> 82\u001b[1;33m             \u001b[1;32mraise\u001b[0m \u001b[0mException\u001b[0m\u001b[1;33m(\u001b[0m\u001b[1;34m'Install MeCab in order to use it: http://konlpy.org/en/latest/install/'\u001b[0m\u001b[1;33m)\u001b[0m\u001b[1;33m\u001b[0m\u001b[1;33m\u001b[0m\u001b[0m\n\u001b[0m\u001b[0;32m     83\u001b[0m \u001b[1;33m\u001b[0m\u001b[0m\n\u001b[0;32m     84\u001b[0m     \u001b[1;32mdef\u001b[0m \u001b[0m__setstate__\u001b[0m\u001b[1;33m(\u001b[0m\u001b[0mself\u001b[0m\u001b[1;33m,\u001b[0m \u001b[0mstate\u001b[0m\u001b[1;33m)\u001b[0m\u001b[1;33m:\u001b[0m\u001b[1;33m\u001b[0m\u001b[1;33m\u001b[0m\u001b[0m\n",
      "\u001b[1;31mException\u001b[0m: Install MeCab in order to use it: http://konlpy.org/en/latest/install/"
     ]
    }
   ],
   "source": [
    "from konlpy.tag import Mecab\n",
    "# 한국어 실습\n",
    "mecab = Mecab()\n",
    "sentence = '실용자연어처리 실습 진행중입니다.'\n",
    "print(mecab.morphs(sentence))\n",
    "print(mecab.nouns(sentence))# 명사보다는 체언 가져오기 \n",
    "print(mecab.pos(sentence))"
   ]
  },
  {
   "cell_type": "code",
   "execution_count": 4,
   "metadata": {},
   "outputs": [
    {
     "name": "stdout",
     "output_type": "stream",
     "text": [
      "Collecting eunjeon\n",
      "  Downloading eunjeon-0.4.0.tar.gz (34.7 MB)\n",
      "Building wheels for collected packages: eunjeon\n",
      "  Building wheel for eunjeon (setup.py): started\n",
      "  Building wheel for eunjeon (setup.py): finished with status 'error'\n",
      "  Running setup.py clean for eunjeon\n",
      "Failed to build eunjeon\n",
      "Installing collected packages: eunjeon\n",
      "    Running setup.py install for eunjeon: started\n",
      "    Running setup.py install for eunjeon: finished with status 'error'\n"
     ]
    },
    {
     "name": "stderr",
     "output_type": "stream",
     "text": [
      "  ERROR: Command errored out with exit status 1:\n",
      "   command: 'C:\\ProgramData\\anaconda3\\python.exe' -u -c 'import io, os, sys, setuptools, tokenize; sys.argv[0] = '\"'\"'C:\\\\Users\\\\지완\\\\AppData\\\\Local\\\\Temp\\\\pip-install-wr6knxk_\\\\eunjeon_e6c59da487bc44ac93120b4b95f06e27\\\\setup.py'\"'\"'; __file__='\"'\"'C:\\\\Users\\\\지완\\\\AppData\\\\Local\\\\Temp\\\\pip-install-wr6knxk_\\\\eunjeon_e6c59da487bc44ac93120b4b95f06e27\\\\setup.py'\"'\"';f = getattr(tokenize, '\"'\"'open'\"'\"', open)(__file__) if os.path.exists(__file__) else io.StringIO('\"'\"'from setuptools import setup; setup()'\"'\"');code = f.read().replace('\"'\"'\\r\\n'\"'\"', '\"'\"'\\n'\"'\"');f.close();exec(compile(code, __file__, '\"'\"'exec'\"'\"'))' bdist_wheel -d 'C:\\Users\\지완\\AppData\\Local\\Temp\\pip-wheel-elqo5xoe'\n",
      "       cwd: C:\\Users\\지완\\AppData\\Local\\Temp\\pip-install-wr6knxk_\\eunjeon_e6c59da487bc44ac93120b4b95f06e27\\\n",
      "  Complete output (44 lines):\n",
      "  running bdist_wheel\n",
      "  running build\n",
      "  running build_py\n",
      "  creating build\n",
      "  creating build\\lib.win-amd64-3.9\n",
      "  creating build\\lib.win-amd64-3.9\\eunjeon\n",
      "  copying eunjeon\\constants.py -> build\\lib.win-amd64-3.9\\eunjeon\n",
      "  copying eunjeon\\mecab.py -> build\\lib.win-amd64-3.9\\eunjeon\n",
      "  copying eunjeon\\_mecab.py -> build\\lib.win-amd64-3.9\\eunjeon\n",
      "  copying eunjeon\\__init__.py -> build\\lib.win-amd64-3.9\\eunjeon\n",
      "  creating build\\lib.win-amd64-3.9\\eunjeon\\data\n",
      "  copying eunjeon\\data\\char.bin -> build\\lib.win-amd64-3.9\\eunjeon\\data\n",
      "  copying eunjeon\\data\\matrix.bin -> build\\lib.win-amd64-3.9\\eunjeon\\data\n",
      "  copying eunjeon\\data\\model.bin -> build\\lib.win-amd64-3.9\\eunjeon\\data\n",
      "  copying eunjeon\\data\\char.def -> build\\lib.win-amd64-3.9\\eunjeon\\data\n",
      "  copying eunjeon\\data\\feature.def -> build\\lib.win-amd64-3.9\\eunjeon\\data\n",
      "  copying eunjeon\\data\\left-id.def -> build\\lib.win-amd64-3.9\\eunjeon\\data\n",
      "  copying eunjeon\\data\\pos-id.def -> build\\lib.win-amd64-3.9\\eunjeon\\data\n",
      "  copying eunjeon\\data\\rewrite.def -> build\\lib.win-amd64-3.9\\eunjeon\\data\n",
      "  copying eunjeon\\data\\right-id.def -> build\\lib.win-amd64-3.9\\eunjeon\\data\n",
      "  copying eunjeon\\data\\unk.def -> build\\lib.win-amd64-3.9\\eunjeon\\data\n",
      "  copying eunjeon\\data\\sys.dic -> build\\lib.win-amd64-3.9\\eunjeon\\data\n",
      "  copying eunjeon\\data\\unk.dic -> build\\lib.win-amd64-3.9\\eunjeon\\data\n",
      "  copying eunjeon\\data\\dicrc -> build\\lib.win-amd64-3.9\\eunjeon\\data\n",
      "  copying eunjeon\\data\\mecabrc -> build\\lib.win-amd64-3.9\\eunjeon\\data\n",
      "  copying eunjeon\\data\\libmecab.dll -> build\\lib.win-amd64-3.9\\eunjeon\\data\n",
      "  copying eunjeon\\data\\mecab-cost-train.exe -> build\\lib.win-amd64-3.9\\eunjeon\\data\n",
      "  copying eunjeon\\data\\mecab-dict-gen.exe -> build\\lib.win-amd64-3.9\\eunjeon\\data\n",
      "  copying eunjeon\\data\\mecab-dict-index.exe -> build\\lib.win-amd64-3.9\\eunjeon\\data\n",
      "  copying eunjeon\\data\\mecab-system-eval.exe -> build\\lib.win-amd64-3.9\\eunjeon\\data\n",
      "  copying eunjeon\\data\\mecab-test-gen.exe -> build\\lib.win-amd64-3.9\\eunjeon\\data\n",
      "  copying eunjeon\\data\\mecab.exe -> build\\lib.win-amd64-3.9\\eunjeon\\data\n",
      "  creating build\\lib.win-amd64-3.9\\eunjeon\\data\\sdk\n",
      "  copying eunjeon\\data\\sdk\\libmecab.lib -> build\\lib.win-amd64-3.9\\eunjeon\\data\\sdk\n",
      "  copying eunjeon\\data\\sdk\\mecab-cost-train.lib -> build\\lib.win-amd64-3.9\\eunjeon\\data\\sdk\n",
      "  copying eunjeon\\data\\sdk\\mecab-dict-gen.lib -> build\\lib.win-amd64-3.9\\eunjeon\\data\\sdk\n",
      "  copying eunjeon\\data\\sdk\\mecab-dict-index.lib -> build\\lib.win-amd64-3.9\\eunjeon\\data\\sdk\n",
      "  copying eunjeon\\data\\sdk\\mecab-system-eval.lib -> build\\lib.win-amd64-3.9\\eunjeon\\data\\sdk\n",
      "  copying eunjeon\\data\\sdk\\mecab-test-gen.lib -> build\\lib.win-amd64-3.9\\eunjeon\\data\\sdk\n",
      "  copying eunjeon\\data\\sdk\\mecab.h -> build\\lib.win-amd64-3.9\\eunjeon\\data\\sdk\n",
      "  copying eunjeon\\data\\sdk\\mecab.lib -> build\\lib.win-amd64-3.9\\eunjeon\\data\\sdk\n",
      "  running build_ext\n",
      "  building '_MeCab' extension\n",
      "  error: Microsoft Visual C++ 14.0 or greater is required. Get it with \"Microsoft C++ Build Tools\": https://visualstudio.microsoft.com/visual-cpp-build-tools/\n",
      "  ----------------------------------------\n",
      "  ERROR: Failed building wheel for eunjeon\n",
      "    ERROR: Command errored out with exit status 1:\n",
      "     command: 'C:\\ProgramData\\anaconda3\\python.exe' -u -c 'import io, os, sys, setuptools, tokenize; sys.argv[0] = '\"'\"'C:\\\\Users\\\\지완\\\\AppData\\\\Local\\\\Temp\\\\pip-install-wr6knxk_\\\\eunjeon_e6c59da487bc44ac93120b4b95f06e27\\\\setup.py'\"'\"'; __file__='\"'\"'C:\\\\Users\\\\지완\\\\AppData\\\\Local\\\\Temp\\\\pip-install-wr6knxk_\\\\eunjeon_e6c59da487bc44ac93120b4b95f06e27\\\\setup.py'\"'\"';f = getattr(tokenize, '\"'\"'open'\"'\"', open)(__file__) if os.path.exists(__file__) else io.StringIO('\"'\"'from setuptools import setup; setup()'\"'\"');code = f.read().replace('\"'\"'\\r\\n'\"'\"', '\"'\"'\\n'\"'\"');f.close();exec(compile(code, __file__, '\"'\"'exec'\"'\"'))' install --record 'C:\\Users\\지완\\AppData\\Local\\Temp\\pip-record-f7f35f3h\\install-record.txt' --single-version-externally-managed --compile --install-headers 'C:\\ProgramData\\anaconda3\\Include\\eunjeon'\n",
      "         cwd: C:\\Users\\지완\\AppData\\Local\\Temp\\pip-install-wr6knxk_\\eunjeon_e6c59da487bc44ac93120b4b95f06e27\\\n",
      "    Complete output (44 lines):\n",
      "    running install\n",
      "    running build\n",
      "    running build_py\n",
      "    creating build\n",
      "    creating build\\lib.win-amd64-3.9\n",
      "    creating build\\lib.win-amd64-3.9\\eunjeon\n",
      "    copying eunjeon\\constants.py -> build\\lib.win-amd64-3.9\\eunjeon\n",
      "    copying eunjeon\\mecab.py -> build\\lib.win-amd64-3.9\\eunjeon\n",
      "    copying eunjeon\\_mecab.py -> build\\lib.win-amd64-3.9\\eunjeon\n",
      "    copying eunjeon\\__init__.py -> build\\lib.win-amd64-3.9\\eunjeon\n",
      "    creating build\\lib.win-amd64-3.9\\eunjeon\\data\n",
      "    copying eunjeon\\data\\char.bin -> build\\lib.win-amd64-3.9\\eunjeon\\data\n",
      "    copying eunjeon\\data\\matrix.bin -> build\\lib.win-amd64-3.9\\eunjeon\\data\n",
      "    copying eunjeon\\data\\model.bin -> build\\lib.win-amd64-3.9\\eunjeon\\data\n",
      "    copying eunjeon\\data\\char.def -> build\\lib.win-amd64-3.9\\eunjeon\\data\n",
      "    copying eunjeon\\data\\feature.def -> build\\lib.win-amd64-3.9\\eunjeon\\data\n",
      "    copying eunjeon\\data\\left-id.def -> build\\lib.win-amd64-3.9\\eunjeon\\data\n",
      "    copying eunjeon\\data\\pos-id.def -> build\\lib.win-amd64-3.9\\eunjeon\\data\n",
      "    copying eunjeon\\data\\rewrite.def -> build\\lib.win-amd64-3.9\\eunjeon\\data\n",
      "    copying eunjeon\\data\\right-id.def -> build\\lib.win-amd64-3.9\\eunjeon\\data\n",
      "    copying eunjeon\\data\\unk.def -> build\\lib.win-amd64-3.9\\eunjeon\\data\n",
      "    copying eunjeon\\data\\sys.dic -> build\\lib.win-amd64-3.9\\eunjeon\\data\n",
      "    copying eunjeon\\data\\unk.dic -> build\\lib.win-amd64-3.9\\eunjeon\\data\n",
      "    copying eunjeon\\data\\dicrc -> build\\lib.win-amd64-3.9\\eunjeon\\data\n",
      "    copying eunjeon\\data\\mecabrc -> build\\lib.win-amd64-3.9\\eunjeon\\data\n",
      "    copying eunjeon\\data\\libmecab.dll -> build\\lib.win-amd64-3.9\\eunjeon\\data\n",
      "    copying eunjeon\\data\\mecab-cost-train.exe -> build\\lib.win-amd64-3.9\\eunjeon\\data\n",
      "    copying eunjeon\\data\\mecab-dict-gen.exe -> build\\lib.win-amd64-3.9\\eunjeon\\data\n",
      "    copying eunjeon\\data\\mecab-dict-index.exe -> build\\lib.win-amd64-3.9\\eunjeon\\data\n",
      "    copying eunjeon\\data\\mecab-system-eval.exe -> build\\lib.win-amd64-3.9\\eunjeon\\data\n",
      "    copying eunjeon\\data\\mecab-test-gen.exe -> build\\lib.win-amd64-3.9\\eunjeon\\data\n",
      "    copying eunjeon\\data\\mecab.exe -> build\\lib.win-amd64-3.9\\eunjeon\\data\n",
      "    creating build\\lib.win-amd64-3.9\\eunjeon\\data\\sdk\n",
      "    copying eunjeon\\data\\sdk\\libmecab.lib -> build\\lib.win-amd64-3.9\\eunjeon\\data\\sdk\n",
      "    copying eunjeon\\data\\sdk\\mecab-cost-train.lib -> build\\lib.win-amd64-3.9\\eunjeon\\data\\sdk\n",
      "    copying eunjeon\\data\\sdk\\mecab-dict-gen.lib -> build\\lib.win-amd64-3.9\\eunjeon\\data\\sdk\n",
      "    copying eunjeon\\data\\sdk\\mecab-dict-index.lib -> build\\lib.win-amd64-3.9\\eunjeon\\data\\sdk\n",
      "    copying eunjeon\\data\\sdk\\mecab-system-eval.lib -> build\\lib.win-amd64-3.9\\eunjeon\\data\\sdk\n",
      "    copying eunjeon\\data\\sdk\\mecab-test-gen.lib -> build\\lib.win-amd64-3.9\\eunjeon\\data\\sdk\n",
      "    copying eunjeon\\data\\sdk\\mecab.h -> build\\lib.win-amd64-3.9\\eunjeon\\data\\sdk\n",
      "    copying eunjeon\\data\\sdk\\mecab.lib -> build\\lib.win-amd64-3.9\\eunjeon\\data\\sdk\n",
      "    running build_ext\n",
      "    building '_MeCab' extension\n",
      "    error: Microsoft Visual C++ 14.0 or greater is required. Get it with \"Microsoft C++ Build Tools\": https://visualstudio.microsoft.com/visual-cpp-build-tools/\n",
      "    ----------------------------------------\n",
      "ERROR: Command errored out with exit status 1: 'C:\\ProgramData\\anaconda3\\python.exe' -u -c 'import io, os, sys, setuptools, tokenize; sys.argv[0] = '\"'\"'C:\\\\Users\\\\지완\\\\AppData\\\\Local\\\\Temp\\\\pip-install-wr6knxk_\\\\eunjeon_e6c59da487bc44ac93120b4b95f06e27\\\\setup.py'\"'\"'; __file__='\"'\"'C:\\\\Users\\\\지완\\\\AppData\\\\Local\\\\Temp\\\\pip-install-wr6knxk_\\\\eunjeon_e6c59da487bc44ac93120b4b95f06e27\\\\setup.py'\"'\"';f = getattr(tokenize, '\"'\"'open'\"'\"', open)(__file__) if os.path.exists(__file__) else io.StringIO('\"'\"'from setuptools import setup; setup()'\"'\"');code = f.read().replace('\"'\"'\\r\\n'\"'\"', '\"'\"'\\n'\"'\"');f.close();exec(compile(code, __file__, '\"'\"'exec'\"'\"'))' install --record 'C:\\Users\\지완\\AppData\\Local\\Temp\\pip-record-f7f35f3h\\install-record.txt' --single-version-externally-managed --compile --install-headers 'C:\\ProgramData\\anaconda3\\Include\\eunjeon' Check the logs for full command output.\n"
     ]
    }
   ],
   "source": [
    "!pip install eunjeon\n",
    "# jupyter에서 , 즉 로컬에서 사용하는 법"
   ]
  },
  {
   "cell_type": "code",
   "execution_count": 8,
   "metadata": {},
   "outputs": [
    {
     "ename": "ModuleNotFoundError",
     "evalue": "No module named 'eunjeon'",
     "output_type": "error",
     "traceback": [
      "\u001b[1;31m---------------------------------------------------------------------------\u001b[0m",
      "\u001b[1;31mModuleNotFoundError\u001b[0m                       Traceback (most recent call last)",
      "\u001b[1;32m~\\AppData\\Local\\Temp/ipykernel_7392/687729199.py\u001b[0m in \u001b[0;36m<module>\u001b[1;34m\u001b[0m\n\u001b[1;32m----> 1\u001b[1;33m \u001b[1;32mfrom\u001b[0m \u001b[0meunjeon\u001b[0m \u001b[1;32mimport\u001b[0m \u001b[0mMecab\u001b[0m\u001b[1;33m\u001b[0m\u001b[1;33m\u001b[0m\u001b[0m\n\u001b[0m\u001b[0;32m      2\u001b[0m \u001b[0mmecab\u001b[0m \u001b[1;33m=\u001b[0m \u001b[0mMecab\u001b[0m\u001b[1;33m(\u001b[0m\u001b[1;33m)\u001b[0m\u001b[1;33m\u001b[0m\u001b[1;33m\u001b[0m\u001b[0m\n\u001b[0;32m      3\u001b[0m \u001b[0msentence\u001b[0m \u001b[1;33m=\u001b[0m \u001b[1;34m'실용자연어처리 실습 진행중입니다.'\u001b[0m\u001b[1;33m\u001b[0m\u001b[1;33m\u001b[0m\u001b[0m\n\u001b[0;32m      4\u001b[0m \u001b[0mprint\u001b[0m\u001b[1;33m(\u001b[0m\u001b[0mmecab\u001b[0m\u001b[1;33m.\u001b[0m\u001b[0mmorphs\u001b[0m\u001b[1;33m(\u001b[0m\u001b[0msentence\u001b[0m\u001b[1;33m)\u001b[0m\u001b[1;33m)\u001b[0m\u001b[1;33m\u001b[0m\u001b[1;33m\u001b[0m\u001b[0m\n\u001b[0;32m      5\u001b[0m \u001b[0mprint\u001b[0m\u001b[1;33m(\u001b[0m\u001b[0mmecab\u001b[0m\u001b[1;33m.\u001b[0m\u001b[0mnouns\u001b[0m\u001b[1;33m(\u001b[0m\u001b[0msentence\u001b[0m\u001b[1;33m)\u001b[0m\u001b[1;33m)\u001b[0m\u001b[1;31m# 명사보다는 체언 가져오기\u001b[0m\u001b[1;33m\u001b[0m\u001b[1;33m\u001b[0m\u001b[0m\n",
      "\u001b[1;31mModuleNotFoundError\u001b[0m: No module named 'eunjeon'"
     ]
    }
   ],
   "source": [
    "from eunjeon import Mecab\n",
    "mecab = Mecab()\n",
    "sentence = '실용자연어처리 실습 진행중입니다.'\n",
    "print(mecab.morphs(sentence))\n",
    "print(mecab.nouns(sentence))# 명사보다는 체언 가져오기 \n",
    "print(mecab.pos(sentence))"
   ]
  },
  {
   "cell_type": "code",
   "execution_count": 16,
   "metadata": {},
   "outputs": [],
   "source": [
    "def find_max(arr, from_, to):\n",
    "    if from_ > to:\n",
    "        return -1\n",
    "\n",
    "    mid = (from_ + to) // 2\n",
    "    left_m = find_max(arr, mid + 1, to)\n",
    "    right_m = find_max(arr, from_, mid-1)\n",
    "\n",
    "    return max(left_m, right_m, mid)\n",
    "\n",
    "A = list(map(int, input().split()))\n",
    "ans= find_max(A, 0, len(A))\n",
    "# 5 6 1 2 3 4\n",
    "# 1 3 5 6 7 9\n",
    "# 1 3 5 6 7 9"
   ]
  },
  {
   "cell_type": "code",
   "execution_count": 17,
   "metadata": {},
   "outputs": [
    {
     "data": {
      "text/plain": [
       "2"
      ]
     },
     "execution_count": 17,
     "metadata": {},
     "output_type": "execute_result"
    }
   ],
   "source": [
    "len(A) - ((A.index(ans) +1) % len(A))"
   ]
  },
  {
   "cell_type": "code",
   "execution_count": null,
   "metadata": {},
   "outputs": [],
   "source": [
    "def find_max(arr, from_, to):\n",
    "    if from_ > to:\n",
    "        return -1\n",
    "\n",
    "    mid = (from_ + to) // 2\n",
    "    left_m = find_max(arr, mid + 1, to)\n",
    "    right_m = find_max(arr, from_, mid-1)\n",
    "\n",
    "    return max(left_m, right_m, mid)\n",
    "\n",
    "def find_rotation_k():\n",
    "    A = list(map(int, input().split()))\n",
    "    ans= find_max(A, 0, len(A))\n",
    "    return len(A) - ((A.index(ans) +1) % len(A))\n",
    "\n",
    "find_rotation_k()"
   ]
  },
  {
   "cell_type": "code",
   "execution_count": 3,
   "metadata": {},
   "outputs": [
    {
     "name": "stdout",
     "output_type": "stream",
     "text": [
      "[1, 3, 5, 6, 7, 9]\n",
      "9 6\n"
     ]
    },
    {
     "data": {
      "text/plain": [
       "0"
      ]
     },
     "execution_count": 3,
     "metadata": {},
     "output_type": "execute_result"
    }
   ],
   "source": [
    "# 1 3 5 6 7 9\n",
    "# 5 6 1 2 3 4\n",
    "# 15 18 20 31 5 8 9\n",
    "\n",
    "def find_max(arr, from_, to):\n",
    "    if from_ > to:\n",
    "        return -1\n",
    "\n",
    "    mid = (from_ + to) // 2\n",
    "    left_m = find_max(arr, mid+1, to)\n",
    "    right_m = find_max(arr, from_, mid-1)\n",
    "\n",
    "    return max(left_m, right_m, arr[mid])\n",
    "\n",
    "def find_rotation_k():\n",
    "    A = list(map(int, input().split()))\n",
    "    print(A)\n",
    "    ans= find_max(A, 0, len(A)-1)\n",
    "    print(ans, len(A) - ((A.index(ans) +1) % len(A)))\n",
    "    return (len(A) - ((A.index(ans) +1) % len(A)))%len(A)#\n",
    "\n",
    "find_rotation_k()"
   ]
  },
  {
   "cell_type": "code",
   "execution_count": 7,
   "metadata": {},
   "outputs": [],
   "source": [
    "def getRotations(arr):\n",
    "    return (getIdxOfMax(arr, 0, len(arr)-1) + 1) % len(arr)\n",
    "\n",
    "def getIdxOfMax(arr, from_, to):\n",
    "    if from_ > to:\n",
    "        return 0\n",
    "\n",
    "    mid = (from_ + to) // 2\n",
    "\n",
    "    if arr[from_] > arr[mid]:\n",
    "        mIdx = getIdxOfMax(arr, from_ + 1, mid)\n",
    "        return mIdx if arr[mIdx] > arr[from_] else from_\n",
    "\n",
    "    elif arr[mid] > arr[to]:\n",
    "        mIdx = getIdxOfMax(arr, mid + 1, to)\n",
    "        return mIdx if arr[mIdx] > arr[mid] else mid\n",
    "\n",
    "    elif arr[from_] == arr[to]:  # O(n)\n",
    "        mIdx1 = getIdxOfMax(arr, from_ + 1, mid)\n",
    "        mIdx2 = getIdxOfMax(arr, mid + 1, to)\n",
    "        return mIdx1 if arr[mIdx1] > arr[mIdx2] else mIdx2\n",
    "\n",
    "    else:\n",
    "        return to"
   ]
  },
  {
   "cell_type": "code",
   "execution_count": 8,
   "metadata": {},
   "outputs": [
    {
     "data": {
      "text/plain": [
       "1"
      ]
     },
     "execution_count": 8,
     "metadata": {},
     "output_type": "execute_result"
    }
   ],
   "source": [
    "A = list(map(int, input().split()))\n",
    "getIdxOfMax(A, 0, len(A))\n",
    "# 5 6 1 2 3 4"
   ]
  },
  {
   "cell_type": "code",
   "execution_count": null,
   "metadata": {},
   "outputs": [
    {
     "ename": "",
     "evalue": "",
     "output_type": "error",
     "traceback": [
      "\u001b[1;31mCanceled future for execute_request message before replies were done"
     ]
    },
    {
     "ename": "",
     "evalue": "",
     "output_type": "error",
     "traceback": [
      "\u001b[1;31mThe Kernel crashed while executing code in the the current cell or a previous cell. Please review the code in the cell(s) to identify a possible cause of the failure. Click <a href='https://aka.ms/vscodeJupyterKernelCrash'>here</a> for more info. View Jupyter <a href='command:jupyter.viewOutput'>log</a> for further details."
     ]
    }
   ],
   "source": [
    "def find_max(arr, from_, to):\n",
    "    if from_ > to:\n",
    "        return -1\n",
    "\n",
    "    mid = (from_ + to) // 2\n",
    "    m = find_max(arr, mid + 1, to)\n",
    "\n",
    "    return arr[mid] if arr[mid] > m else m\n",
    "\n",
    "max(list(map(int, '5 6 1 2 3 4'.split())), 0, 5)"
   ]
  },
  {
   "cell_type": "code",
   "execution_count": null,
   "metadata": {},
   "outputs": [],
   "source": [
    "# 1 3 5 6 7 9\n",
    "# 5 6 1 2 3 4\n",
    "# 15 18 20 31 5 8 9\n",
    "\n",
    "def find_max(arr, from_, to):\n",
    "    if from_ > to:\n",
    "        return -1\n",
    "\n",
    "    mid = (from_ + to) // 2\n",
    "    left_m = find_max(arr, mid+1, to)\n",
    "    right_m = find_max(arr, from_, mid-1)\n",
    "\n",
    "    return max(left_m, right_m, arr[mid])\n",
    "\n",
    "def find_rotation_k():\n",
    "    A = list(map(int, input().split()))\n",
    "    print(A)\n",
    "    ans= find_max(A, 0, len(A)-1)\n",
    "    print(ans, len(A) - ((A.index(ans) +1) % len(A)))\n",
    "    return (len(A) - ((A.index(ans) +1) % len(A)))%len(A)#\n",
    "\n",
    "find_rotation_k()"
   ]
  }
 ],
 "metadata": {
  "kernelspec": {
   "display_name": "base",
   "language": "python",
   "name": "python3"
  },
  "language_info": {
   "codemirror_mode": {
    "name": "ipython",
    "version": 3
   },
   "file_extension": ".py",
   "mimetype": "text/x-python",
   "name": "python",
   "nbconvert_exporter": "python",
   "pygments_lexer": "ipython3",
   "version": "3.9.7"
  },
  "orig_nbformat": 4,
  "vscode": {
   "interpreter": {
    "hash": "3c06e3e46abf38078fe4dac36a0085ec2b134ebbd73dd076183d243eeca6918f"
   }
  }
 },
 "nbformat": 4,
 "nbformat_minor": 2
}
