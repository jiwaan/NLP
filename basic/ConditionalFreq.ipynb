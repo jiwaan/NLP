{
  "nbformat": 4,
  "nbformat_minor": 0,
  "metadata": {
    "colab": {
      "provenance": []
    },
    "kernelspec": {
      "name": "python3",
      "display_name": "Python 3"
    },
    "language_info": {
      "name": "python"
    }
  },
  "cells": [
    {
      "cell_type": "markdown",
      "source": [
        "# 1주차: 빈도수의 가시화\n",
        "- 전산언어학\n",
        "- tool 없이 프로그래밍 만드는 것도 배움 !\n",
        "- 이건 중요함\n",
        "- 여기 수업은 라이브러리 불러와서 tool 쓰는 것을 배울 것\n",
        "- 영어 언어 / 언어 처리의 기본\n",
        "> tool\n",
        "- word tokenizer\n",
        "- Sentence tokenizer\n",
        "- POS tagger\n",
        "- Stemmer\n",
        "- Lemmatizer (사전)\n",
        "- Concordancer\n",
        "- Parser"
      ],
      "metadata": {
        "id": "a8vQk_yVsZsT"
      }
    },
    {
      "cell_type": "code",
      "source": [
        "import nltk\n",
        "nltk.download()"
      ],
      "metadata": {
        "colab": {
          "base_uri": "https://localhost:8080/"
        },
        "id": "S8Vfkn2fsZPb",
        "outputId": "aeda6b87-718e-47cf-bda8-6beed98d6b9e"
      },
      "execution_count": null,
      "outputs": [
        {
          "name": "stdout",
          "output_type": "stream",
          "text": [
            "NLTK Downloader\n",
            "---------------------------------------------------------------------------\n",
            "    d) Download   l) List    u) Update   c) Config   h) Help   q) Quit\n",
            "---------------------------------------------------------------------------\n",
            "Downloader> d\n",
            "\n",
            "Download which package (l=list; x=cancel)?\n",
            "  Identifier> q\n",
            "\n",
            "---------------------------------------------------------------------------\n",
            "    d) Download   l) List    u) Update   c) Config   h) Help   q) Quit\n",
            "---------------------------------------------------------------------------\n",
            "Downloader> d\n",
            "\n",
            "Download which package (l=list; x=cancel)?\n",
            "  Identifier> l\n",
            "Packages:\n",
            "  [ ] abc................. Australian Broadcasting Commission 2006\n",
            "  [ ] alpino.............. Alpino Dutch Treebank\n",
            "  [ ] averaged_perceptron_tagger Averaged Perceptron Tagger\n",
            "  [ ] averaged_perceptron_tagger_ru Averaged Perceptron Tagger (Russian)\n",
            "  [ ] basque_grammars..... Grammars for Basque\n",
            "  [ ] bcp47............... BCP-47 Language Tags\n",
            "  [ ] biocreative_ppi..... BioCreAtIvE (Critical Assessment of Information\n",
            "                           Extraction Systems in Biology)\n",
            "  [ ] bllip_wsj_no_aux.... BLLIP Parser: WSJ Model\n",
            "  [ ] book_grammars....... Grammars from NLTK Book\n",
            "  [ ] brown............... Brown Corpus\n",
            "  [ ] brown_tei........... Brown Corpus (TEI XML Version)\n",
            "  [ ] cess_cat............ CESS-CAT Treebank\n",
            "  [ ] cess_esp............ CESS-ESP Treebank\n",
            "  [ ] chat80.............. Chat-80 Data Files\n",
            "  [ ] city_database....... City Database\n",
            "  [ ] cmudict............. The Carnegie Mellon Pronouncing Dictionary (0.6)\n",
            "  [ ] comparative_sentences Comparative Sentence Dataset\n",
            "  [ ] comtrans............ ComTrans Corpus Sample\n",
            "  [ ] conll2000........... CONLL 2000 Chunking Corpus\n",
            "Hit Enter to continue: q\n",
            "\n",
            "Download which package (l=list; x=cancel)?\n",
            "  Identifier> q\n",
            "\n",
            "---------------------------------------------------------------------------\n",
            "    d) Download   l) List    u) Update   c) Config   h) Help   q) Quit\n",
            "---------------------------------------------------------------------------\n",
            "Downloader> q\n"
          ]
        },
        {
          "output_type": "execute_result",
          "data": {
            "text/plain": [
              "True"
            ]
          },
          "metadata": {},
          "execution_count": 3
        }
      ]
    },
    {
      "cell_type": "code",
      "source": [
        "import nltk\n",
        "nltk.download('brown', 'inaugural')\n",
        "brown = nltk.corpus.brown"
      ],
      "metadata": {
        "colab": {
          "base_uri": "https://localhost:8080/"
        },
        "id": "DXX9Rlk2r2Lv",
        "outputId": "794b1a1d-2d95-4910-c4c2-27ed22aeed82"
      },
      "execution_count": null,
      "outputs": [
        {
          "output_type": "stream",
          "name": "stderr",
          "text": [
            "[nltk_data] Downloading package brown to inaugural...\n",
            "[nltk_data]   Unzipping corpora/brown.zip.\n"
          ]
        }
      ]
    },
    {
      "cell_type": "code",
      "source": [
        "nltk.download('brown')"
      ],
      "metadata": {
        "colab": {
          "base_uri": "https://localhost:8080/"
        },
        "id": "wqIus__-tWOJ",
        "outputId": "05b046ce-f9ba-4cf3-d98d-f16b3472ac50"
      },
      "execution_count": null,
      "outputs": [
        {
          "output_type": "stream",
          "name": "stderr",
          "text": [
            "[nltk_data] Downloading package brown to /root/nltk_data...\n",
            "[nltk_data]   Unzipping corpora/brown.zip.\n"
          ]
        },
        {
          "output_type": "execute_result",
          "data": {
            "text/plain": [
              "True"
            ]
          },
          "metadata": {},
          "execution_count": 5
        }
      ]
    },
    {
      "cell_type": "markdown",
      "source": [
        "## ConditionalFreqDist(), tabulate(), plot()\n",
        "- 빈도수를 가시화하는 함수\n",
        "- conditionalfreqdist 함수에 파라미터는 `[(,),(,),(,)]`로\n",
        "카테고리\n",
        "- 행종류, 열특성\n",
        "- text 종류, 열은"
      ],
      "metadata": {
        "id": "ACRkjCN5uhP5"
      }
    },
    {
      "cell_type": "code",
      "source": [
        "from nltk.inference.tableau import Categories\n",
        "\n",
        "cfd = nltk.ConditionalFreqDist(\n",
        "    (genre, word)\n",
        "    for genre in brown.categories()\n",
        "    for word in brown.words(categories=genre)\n",
        ")\n",
        "\n",
        "modals = 'can could would will might may'.split()\n",
        "cfd.tabulate(conditions=brown.categories(), samples=modals)"
      ],
      "metadata": {
        "colab": {
          "base_uri": "https://localhost:8080/"
        },
        "id": "-D18n4Qmtmmm",
        "outputId": "bb5eff3a-1490-4630-ddba-3efd2fa207a7"
      },
      "execution_count": null,
      "outputs": [
        {
          "output_type": "stream",
          "name": "stdout",
          "text": [
            "                  can could would  will might   may \n",
            "      adventure    46   151   191    50    58     5 \n",
            " belles_lettres   246   213   392   236   113   207 \n",
            "      editorial   121    56   180   233    39    74 \n",
            "        fiction    37   166   287    52    44     8 \n",
            "     government   117    38   120   244    13   153 \n",
            "        hobbies   268    58    78   264    22   131 \n",
            "          humor    16    30    56    13     8     8 \n",
            "        learned   365   159   319   340   128   324 \n",
            "           lore   170   141   186   175    49   165 \n",
            "        mystery    42   141   186    20    57    13 \n",
            "           news    93    86   244   389    38    66 \n",
            "       religion    82    59    68    71    12    78 \n",
            "        reviews    45    40    47    58    26    45 \n",
            "        romance    74   193   244    43    51    11 \n",
            "science_fiction    16    49    79    16    12     4 \n"
          ]
        }
      ]
    },
    {
      "cell_type": "markdown",
      "source": [
        "꼭 바이그램 모형을 위해서만 쓰이지는 않는구나\\\n",
        "조건을 이렇게 추가할 수 있구나 list comprehensoin"
      ],
      "metadata": {
        "id": "yD1Fcal5znNl"
      }
    },
    {
      "cell_type": "code",
      "source": [
        "cfd1 = nltk.ConditionalFreqDist(\n",
        "    (genre, modal)\n",
        "    for genre in brown.categories()\n",
        "    for modal in 'can could would will might may'.split()\n",
        "\n",
        "    for word in brown.words(categories=genre)\n",
        "    if word.lower() == modal\n",
        ")\n",
        "\n",
        "cfd1.tabulate()"
      ],
      "metadata": {
        "colab": {
          "base_uri": "https://localhost:8080/"
        },
        "id": "NqDMtSZ3vchO",
        "outputId": "c58026af-369d-4498-98cf-fde892728392"
      },
      "execution_count": null,
      "outputs": [
        {
          "output_type": "stream",
          "name": "stdout",
          "text": [
            "                  can could   may might  will would \n",
            "      adventure    48   154     7    59    51   194 \n",
            " belles_lettres   249   216   221   113   246   397 \n",
            "      editorial   124    57    79    39   235   185 \n",
            "        fiction    39   168    10    44    56   291 \n",
            "     government   119    38   179    13   244   120 \n",
            "        hobbies   276    59   143    22   269    83 \n",
            "          humor    17    33     8     8    13    56 \n",
            "        learned   367   159   336   128   340   321 \n",
            "           lore   170   142   170    50   178   188 \n",
            "        mystery    45   145    15    57    25   189 \n",
            "           news    94    87    93    38   389   246 \n",
            "       religion    84    59    79    12    72    69 \n",
            "        reviews    45    40    47    26    61    48 \n",
            "        romance    79   195    11    51    49   247 \n",
            "science_fiction    16    49     4    12    17    80 \n"
          ]
        }
      ]
    },
    {
      "cell_type": "code",
      "source": [
        "# Let's do exercise first\n",
        "celebrity = [ ('Madonna','Singer'),('Brad Pitt','Actor'), ('Rain','Singer'), \\\n",
        "             ('Gisele Bundchen','Model'), ('Rain','Actor'), ('Yun ju, Jang','Model'),('Yun ju, Jang', 'Actor') ]"
      ],
      "metadata": {
        "id": "vtsqiwJ11wu_"
      },
      "execution_count": null,
      "outputs": []
    },
    {
      "cell_type": "code",
      "source": [
        "cf = nltk.ConditionalFreqDist(celebrity)"
      ],
      "metadata": {
        "id": "UxLDaY1JTAGq"
      },
      "execution_count": null,
      "outputs": []
    },
    {
      "cell_type": "code",
      "source": [
        "cf\n",
        "# 5 conditions => 5개의 조건:"
      ],
      "metadata": {
        "colab": {
          "base_uri": "https://localhost:8080/"
        },
        "id": "19RO9-4XTF7M",
        "outputId": "61687243-4669-4309-df3a-055f8d1d323b"
      },
      "execution_count": null,
      "outputs": [
        {
          "output_type": "execute_result",
          "data": {
            "text/plain": [
              "<ConditionalFreqDist with 5 conditions>"
            ]
          },
          "metadata": {},
          "execution_count": 12
        }
      ]
    },
    {
      "cell_type": "markdown",
      "source": [
        "## conditional의 의미와 확률론적 언어모형\n",
        "- 여기서 왜 (,)형태의 list가 쓰일까\n",
        "- conditional 의 의미는 뭐지? 왜 5개의 조건, 5 condition이라고 할까"
      ],
      "metadata": {
        "id": "34xulBwqTHES"
      }
    },
    {
      "cell_type": "markdown",
      "source": [
        "- 확률론적 언어모형\n",
        "  - m개의 단어가 주어졌을때, (m개의 열이 생성되고) 문장으로써 성립될 확률 P(word1, word2, word3, ..., wordm)을 출력함으로써 이 단어열이 실제로 현실에서 사용될 수 있는 문장인지를 판별하는 모형이다\n",
        "  - 이 확률은 각 단어의 확률과 단어들의 조건부 확률이 이용되는데, 지금까지 이전의 단어 열이 나왔을때, 그다음 단어로 (열로) wordm 이 나올 조건부 확률과 그 단어의 확률을 곱한 값을 말한다.\n",
        "  - 지금까지(이전까지) 나온 단어를 문맥 (context)라고 한다.\n",
        "  - 이건 word2vec에도 나오는 개념이니 복습을 잘 해두도록 하자\n",
        "- 유니그램 모형\\\n",
        ": 만약 모든 단어의 활용이 완전히 서로 독립이라면, 단어열의 확률은 각 단어의 확률의 곱이 된다.\n",
        "- 바이그램 모형(Markox Model)\\\n",
        ": 만약 단어의 활용이 바로 전 단어에만 의존할때, 단어 열의 확률\n",
        "- N그램 모형\\\n",
        ": 만약 단어의 활용이 바로 전 n-1개의 단어에만 의존할때, 단어열의 확률"
      ],
      "metadata": {
        "id": "81M0ohLkTvKc"
      }
    },
    {
      "cell_type": "code",
      "source": [
        "from nltk import bigrams, word_tokenize # 바이그램 생성 ! (바로 전 단어에만 의존 !)"
      ],
      "metadata": {
        "id": "Fq_6OPHoU16K"
      },
      "execution_count": null,
      "outputs": []
    },
    {
      "cell_type": "code",
      "source": [
        "from nltk.util import ngrams # n-그램 생성 !\n",
        "\n",
        "sentence = 'I am a boy.'\n",
        "tokens= word_tokenize(sentence)\n",
        "\n",
        "bigram = bigrams(tokens)\n",
        "trigram = ngrams(tokens, 3) # n=3 (전에 나온 3개의 단어만 참조)"
      ],
      "metadata": {
        "id": "nYHblHqxWMZ6"
      },
      "execution_count": null,
      "outputs": []
    },
    {
      "cell_type": "code",
      "source": [
        "import nltk\n",
        "nltk.download('punkt')"
      ],
      "metadata": {
        "colab": {
          "base_uri": "https://localhost:8080/"
        },
        "id": "Gq9BfY0JWq-y",
        "outputId": "b6e39e27-9174-491e-a54d-477e547a013b"
      },
      "execution_count": null,
      "outputs": [
        {
          "output_type": "stream",
          "name": "stderr",
          "text": [
            "[nltk_data] Downloading package punkt to /root/nltk_data...\n",
            "[nltk_data]   Unzipping tokenizers/punkt.zip.\n"
          ]
        },
        {
          "output_type": "execute_result",
          "data": {
            "text/plain": [
              "True"
            ]
          },
          "metadata": {},
          "execution_count": 16
        }
      ]
    },
    {
      "cell_type": "code",
      "source": [
        "print(\"bigram:\")\n",
        "for word in bigram:\n",
        "    print(word)\n",
        "\n",
        "print(\"\\ntrigram:\")\n",
        "for word in trigram:\n",
        "    print(word)\n",
        "\n",
        "# 토큰이 만들어진걸 볼 수 있지 => I am / am a / a boy 두개씩 나누어진 걸 bigram"
      ],
      "metadata": {
        "colab": {
          "base_uri": "https://localhost:8080/"
        },
        "id": "s-NK3kgnW0Q8",
        "outputId": "51247595-38f2-4f9e-a522-382505039517"
      },
      "execution_count": null,
      "outputs": [
        {
          "output_type": "stream",
          "name": "stdout",
          "text": [
            "bigram:\n",
            "('I', 'am')\n",
            "('am', 'a')\n",
            "('a', 'boy')\n",
            "('boy', '.')\n",
            "\n",
            "trigram:\n",
            "('I', 'am', 'a')\n",
            "('am', 'a', 'boy')\n",
            "('a', 'boy', '.')\n"
          ]
        }
      ]
    },
    {
      "cell_type": "code",
      "source": [
        "# 토큰열을 =  문장의 다른말로 쓰여\n",
        "bigram = ngrams(tokens, 2, pad_left=True, pad_right=True) # sentence start and end => padding / left_pad_symbol='SS', right_pad_symbl='SE'"
      ],
      "metadata": {
        "id": "m5CvaOSbXE3F"
      },
      "execution_count": null,
      "outputs": []
    },
    {
      "cell_type": "code",
      "source": [
        "for word in bigram:\n",
        "  print(word)"
      ],
      "metadata": {
        "colab": {
          "base_uri": "https://localhost:8080/"
        },
        "id": "qNY-rT7uYYo5",
        "outputId": "581f98d5-d9b3-4cf8-a0e3-c6935ca2c6a5"
      },
      "execution_count": null,
      "outputs": [
        {
          "output_type": "stream",
          "name": "stdout",
          "text": [
            "(None, 'I')\n",
            "('I', 'am')\n",
            "('am', 'a')\n",
            "('a', 'boy')\n",
            "('boy', '.')\n",
            "('.', None)\n"
          ]
        }
      ]
    },
    {
      "cell_type": "markdown",
      "source": [
        "`조건부 확률 추정` 방법을 이용해보자"
      ],
      "metadata": {
        "id": "ROJf-__FYqvL"
      }
    },
    {
      "cell_type": "code",
      "source": [
        "from nltk import ConditionalFreqDist\n",
        "\n",
        "sentence = 'I am a boy.'\n",
        "tokens = word_tokenize(sentence)\n",
        "bigram = ngrams(tokens, 2, pad_left =True, pad_right=True,left_pad_symbol=\"SS\", right_pad_symbol=\"SE\")\n",
        "cfd = ConditionalFreqDist([(word[0], word[1]) for word in bigram])\n",
        "# conditional freq dist의 tuple안에 들어가는 원소가 무엇인지 알게 되었지??"
      ],
      "metadata": {
        "id": "-5Ml_Ld2Yzk3"
      },
      "execution_count": null,
      "outputs": []
    },
    {
      "cell_type": "code",
      "source": [
        "cfd.conditions()"
      ],
      "metadata": {
        "colab": {
          "base_uri": "https://localhost:8080/"
        },
        "id": "1MZ1Dc0nZRl8",
        "outputId": "dc0c3b5e-7f86-4d0a-d525-00aefcabbecb"
      },
      "execution_count": null,
      "outputs": [
        {
          "output_type": "execute_result",
          "data": {
            "text/plain": [
              "['SS', 'I', 'am', 'a', 'boy', '.']"
            ]
          },
          "metadata": {},
          "execution_count": 36
        }
      ]
    },
    {
      "cell_type": "code",
      "source": [
        "cfd[\"SS\"]"
      ],
      "metadata": {
        "colab": {
          "base_uri": "https://localhost:8080/"
        },
        "id": "52LcB7hhZzhw",
        "outputId": "c7cc07dd-4228-4621-f5c8-6ab0ed4b2276"
      },
      "execution_count": null,
      "outputs": [
        {
          "output_type": "execute_result",
          "data": {
            "text/plain": [
              "FreqDist({'I': 1})"
            ]
          },
          "metadata": {},
          "execution_count": 38
        }
      ]
    },
    {
      "cell_type": "markdown",
      "source": [
        "즉, ConditionalFreqDist 클래스는 객체를 생성해주는데, \\\n",
        "문맥을 조건으로 가지는 사전 자료형과 비슷하다."
      ],
      "metadata": {
        "id": "P_LM1ckmaUzW"
      }
    },
    {
      "cell_type": "code",
      "source": [
        "# 다운받고 코퍼스에서 가져오고 바이그램 확률 추정해봐\n",
        "import nltk\n",
        "nltk.download('moive_reviews')\n",
        "nltk.download('punkt')\n",
        "from nltk.corpus import moive_reviews\n",
        "\n",
        "# [[word for word in bigram] for tokens in moive_reviews.sent() for ]\n",
        "sentences = [ [word for word in bigram]\n",
        "    for tokens in moive_reviews.sent()\n",
        "    bigram = ngrams(tokens, 2, pad_left=True, pad_right=True, left_pad_symbol='SS', right_pad_symbol='SE')\n",
        "]"
      ],
      "metadata": {
        "colab": {
          "base_uri": "https://localhost:8080/",
          "height": 138
        },
        "id": "RcGRDgwIa0WM",
        "outputId": "4a0cb7b2-86b3-4045-956e-b323c6fca8d6"
      },
      "execution_count": null,
      "outputs": [
        {
          "output_type": "error",
          "ename": "SyntaxError",
          "evalue": "ignored",
          "traceback": [
            "\u001b[0;36m  File \u001b[0;32m\"<ipython-input-39-095d7c047925>\"\u001b[0;36m, line \u001b[0;32m10\u001b[0m\n\u001b[0;31m    bigram = ngrams(tokens, 2, pad_left=True, pad_right=True, left_pad_symbol='SS', right_pad_symbol='SE')\u001b[0m\n\u001b[0m    ^\u001b[0m\n\u001b[0;31mSyntaxError\u001b[0m\u001b[0;31m:\u001b[0m invalid syntax\n"
          ]
        }
      ]
    },
    {
      "cell_type": "code",
      "source": [
        "import nltk\n",
        "nltk.download('moive_reviews')\n",
        "nltk.download('punkt')"
      ],
      "metadata": {
        "colab": {
          "base_uri": "https://localhost:8080/"
        },
        "id": "fl1D0myFc74P",
        "outputId": "12a50974-9239-4bea-f30a-318c657ce38b"
      },
      "execution_count": null,
      "outputs": [
        {
          "output_type": "stream",
          "name": "stderr",
          "text": [
            "[nltk_data] Error loading moive_reviews: Package 'moive_reviews' not\n",
            "[nltk_data]     found in index\n",
            "[nltk_data] Downloading package punkt to /root/nltk_data...\n",
            "[nltk_data]   Package punkt is already up-to-date!\n"
          ]
        },
        {
          "output_type": "execute_result",
          "data": {
            "text/plain": [
              "True"
            ]
          },
          "metadata": {},
          "execution_count": 46
        }
      ]
    },
    {
      "cell_type": "code",
      "source": [
        "! pip install nltk.corpus"
      ],
      "metadata": {
        "colab": {
          "base_uri": "https://localhost:8080/"
        },
        "id": "gzNqZ75QdME-",
        "outputId": "364a18f7-64b1-4886-ddc6-88c3d1fc6418"
      },
      "execution_count": null,
      "outputs": [
        {
          "output_type": "stream",
          "name": "stdout",
          "text": [
            "Looking in indexes: https://pypi.org/simple, https://us-python.pkg.dev/colab-wheels/public/simple/\n",
            "\u001b[31mERROR: Could not find a version that satisfies the requirement nltk.corpus (from versions: none)\u001b[0m\u001b[31m\n",
            "\u001b[0m\u001b[31mERROR: No matching distribution found for nltk.corpus\u001b[0m\u001b[31m\n",
            "\u001b[0m"
          ]
        }
      ]
    },
    {
      "cell_type": "code",
      "source": [
        "! pip install nltk"
      ],
      "metadata": {
        "colab": {
          "base_uri": "https://localhost:8080/"
        },
        "id": "-6mL_Izcd1k0",
        "outputId": "d3690faf-8b20-4962-e280-fb5fbd4dcab4"
      },
      "execution_count": null,
      "outputs": [
        {
          "output_type": "stream",
          "name": "stdout",
          "text": [
            "Looking in indexes: https://pypi.org/simple, https://us-python.pkg.dev/colab-wheels/public/simple/\n",
            "Requirement already satisfied: nltk in /usr/local/lib/python3.9/dist-packages (3.7)\n",
            "Requirement already satisfied: regex>=2021.8.3 in /usr/local/lib/python3.9/dist-packages (from nltk) (2022.6.2)\n",
            "Requirement already satisfied: joblib in /usr/local/lib/python3.9/dist-packages (from nltk) (1.1.1)\n",
            "Requirement already satisfied: click in /usr/local/lib/python3.9/dist-packages (from nltk) (8.1.3)\n",
            "Requirement already satisfied: tqdm in /usr/local/lib/python3.9/dist-packages (from nltk) (4.65.0)\n"
          ]
        }
      ]
    },
    {
      "cell_type": "code",
      "source": [
        "sentences = []\n",
        "for tokens in movie_reviews.sents(): # 문장하나당\n",
        "    bigram = ngrams(tokens, 2, pad_left=True, pad_right=True, left_pad_symbol=\"SS\", right_pad_symbol=\"SE\") # 문장 하나에서 tokens가 있을 거아니야\n",
        "    # words중 2개 택했으니 bigram이 되고,\n",
        "    sentences += [t for t in bigram] # word for word in bigram 은 tuple = word 하나의 단위가 되겠지\n",
        "\n",
        "sentences[:20]\n",
        "\n",
        "# [ngrams(tokens, 2, pad_left=True, pad_right=True, left_pad_symbol=\"SS\", right_pad_symbol=\"SE\") for token in movie_reviews.sents()]"
      ],
      "metadata": {
        "colab": {
          "base_uri": "https://localhost:8080/"
        },
        "id": "Mw4K64x0dWKq",
        "outputId": "894daa99-d4a8-4787-da6f-adf3f3fb1822"
      },
      "execution_count": null,
      "outputs": [
        {
          "output_type": "execute_result",
          "data": {
            "text/plain": [
              "[('SS', 'plot'),\n",
              " ('plot', ':'),\n",
              " (':', 'two'),\n",
              " ('two', 'teen'),\n",
              " ('teen', 'couples'),\n",
              " ('couples', 'go'),\n",
              " ('go', 'to'),\n",
              " ('to', 'a'),\n",
              " ('a', 'church'),\n",
              " ('church', 'party'),\n",
              " ('party', ','),\n",
              " (',', 'drink'),\n",
              " ('drink', 'and'),\n",
              " ('and', 'then'),\n",
              " ('then', 'drive'),\n",
              " ('drive', '.'),\n",
              " ('.', 'SE'),\n",
              " ('SS', 'they'),\n",
              " ('they', 'get'),\n",
              " ('get', 'into')]"
            ]
          },
          "metadata": {},
          "execution_count": 57
        }
      ]
    },
    {
      "cell_type": "code",
      "source": [
        "nltk.download('corpus')"
      ],
      "metadata": {
        "colab": {
          "base_uri": "https://localhost:8080/"
        },
        "id": "W6NvMZRxdih2",
        "outputId": "9c7c9bee-7201-4a2d-febb-00f02c4d0ceb"
      },
      "execution_count": null,
      "outputs": [
        {
          "output_type": "stream",
          "name": "stderr",
          "text": [
            "[nltk_data] Error loading corpus: Package 'corpus' not found in index\n"
          ]
        },
        {
          "output_type": "execute_result",
          "data": {
            "text/plain": [
              "False"
            ]
          },
          "metadata": {},
          "execution_count": 52
        }
      ]
    },
    {
      "cell_type": "code",
      "source": [
        "from nltk.book import *\n",
        "nltk.download('book', quiet=True)"
      ],
      "metadata": {
        "colab": {
          "base_uri": "https://localhost:8080/"
        },
        "id": "Ox2GNPCzgm_1",
        "outputId": "fd1f9a21-a291-46df-c091-f98e08d072df"
      },
      "execution_count": null,
      "outputs": [
        {
          "output_type": "stream",
          "name": "stdout",
          "text": [
            "*** Introductory Examples for the NLTK Book ***\n",
            "Loading text1, ..., text9 and sent1, ..., sent9\n",
            "Type the name of the text or sentence to view it.\n",
            "Type: 'texts()' or 'sents()' to list the materials.\n",
            "text1: Moby Dick by Herman Melville 1851\n",
            "text2: Sense and Sensibility by Jane Austen 1811\n",
            "text3: The Book of Genesis\n",
            "text4: Inaugural Address Corpus\n",
            "text5: Chat Corpus\n",
            "text6: Monty Python and the Holy Grail\n",
            "text7: Wall Street Journal\n",
            "text8: Personals Corpus\n",
            "text9: The Man Who Was Thursday by G . K . Chesterton 1908\n"
          ]
        },
        {
          "output_type": "execute_result",
          "data": {
            "text/plain": [
              "True"
            ]
          },
          "metadata": {},
          "execution_count": 54
        }
      ]
    },
    {
      "cell_type": "code",
      "source": [
        "import nltk\n",
        "from nltk.corpus import movie_reviews"
      ],
      "metadata": {
        "id": "wthRuzVQhMhs"
      },
      "execution_count": null,
      "outputs": []
    },
    {
      "cell_type": "code",
      "source": [
        "sentences = [ngrams(tokens, 2, pad_left=True, pad_right=True, left_pad_symbol=\"SS\", right_pad_symbol=\"SE\") for tokens in movie_reviews.sents()]\n",
        "sentences[:20]"
      ],
      "metadata": {
        "colab": {
          "base_uri": "https://localhost:8080/"
        },
        "id": "FIEjPvwUhlKL",
        "outputId": "0f3d2e26-e1fd-49e9-9298-6d078c00e228"
      },
      "execution_count": null,
      "outputs": [
        {
          "output_type": "execute_result",
          "data": {
            "text/plain": [
              "[<zip at 0x7fde0fb63680>,\n",
              " <zip at 0x7fde0fb63580>,\n",
              " <zip at 0x7fde0fb63800>,\n",
              " <zip at 0x7fde0fb63780>,\n",
              " <zip at 0x7fde0fb63a40>,\n",
              " <zip at 0x7fde0fb63940>,\n",
              " <zip at 0x7fde0fb63300>,\n",
              " <zip at 0x7fde0fb63a80>,\n",
              " <zip at 0x7fde0fb633c0>,\n",
              " <zip at 0x7fde0fb63fc0>,\n",
              " <zip at 0x7fde0faf08c0>,\n",
              " <zip at 0x7fde0fce7f80>,\n",
              " <zip at 0x7fde0fce7a80>,\n",
              " <zip at 0x7fde0fce7d80>,\n",
              " <zip at 0x7fde0fce7040>,\n",
              " <zip at 0x7fde0fce7600>,\n",
              " <zip at 0x7fde0fce72c0>,\n",
              " <zip at 0x7fde0fc88980>,\n",
              " <zip at 0x7fde0faf4940>,\n",
              " <zip at 0x7fde0faf4440>]"
            ]
          },
          "metadata": {},
          "execution_count": 64
        }
      ]
    },
    {
      "cell_type": "code",
      "source": [
        "sentences = [ch for tokens in movie_reviews.sents() for ch in ngrams(tokens, 2, pad_left=True, pad_right=True, left_pad_symbol=\"SS\", right_pad_symbol=\"SE\")]\n",
        "sentences[:20]"
      ],
      "metadata": {
        "colab": {
          "base_uri": "https://localhost:8080/"
        },
        "id": "QYL-2I89izIj",
        "outputId": "8a3fe9f2-0696-48a3-eefc-8e2626f589ec"
      },
      "execution_count": null,
      "outputs": [
        {
          "output_type": "execute_result",
          "data": {
            "text/plain": [
              "[('SS', 'plot'),\n",
              " ('plot', ':'),\n",
              " (':', 'two'),\n",
              " ('two', 'teen'),\n",
              " ('teen', 'couples'),\n",
              " ('couples', 'go'),\n",
              " ('go', 'to'),\n",
              " ('to', 'a'),\n",
              " ('a', 'church'),\n",
              " ('church', 'party'),\n",
              " ('party', ','),\n",
              " (',', 'drink'),\n",
              " ('drink', 'and'),\n",
              " ('and', 'then'),\n",
              " ('then', 'drive'),\n",
              " ('drive', '.'),\n",
              " ('.', 'SE'),\n",
              " ('SS', 'they'),\n",
              " ('they', 'get'),\n",
              " ('get', 'into')]"
            ]
          },
          "metadata": {},
          "execution_count": 63
        }
      ]
    },
    {
      "cell_type": "code",
      "source": [
        "movie_reviews.sents()"
      ],
      "metadata": {
        "colab": {
          "base_uri": "https://localhost:8080/"
        },
        "id": "93bwHfDBi0Ro",
        "outputId": "70a95164-af70-4b9f-ce71-6792c136b0d7"
      },
      "execution_count": null,
      "outputs": [
        {
          "output_type": "execute_result",
          "data": {
            "text/plain": [
              "[['plot', ':', 'two', 'teen', 'couples', 'go', 'to', 'a', 'church', 'party', ',', 'drink', 'and', 'then', 'drive', '.'], ['they', 'get', 'into', 'an', 'accident', '.'], ...]"
            ]
          },
          "metadata": {},
          "execution_count": 62
        }
      ]
    },
    {
      "cell_type": "code",
      "source": [
        "# [word for word in word_list if word]\n",
        "# list-comprehension이 돌아왔어"
      ],
      "metadata": {
        "id": "dv7LxaS-joYs"
      },
      "execution_count": null,
      "outputs": []
    },
    {
      "cell_type": "code",
      "source": [
        "cfd = ConditionalFreqDist(sentences)\n",
        "# 우리는 cfd라는 객체를 생성해줄건데, 얘는 dictionary야 근데 문맥을 조건으로 가져\n",
        "# 즉, {'condition':'그 전 단어들 그 두개씩 묶인 tuple!'}\n",
        "# 그래서, cfd['SS']를 검색하면 'SS'가 condition 에 해당하는 친구와 그 친구의 빈도수를 알려줘\n",
        "# cfd.conditions()는 tuple에 들어갈 수 있는 친구들이라 SE가 없어"
      ],
      "metadata": {
        "id": "Seb8Nh-YkA0T"
      },
      "execution_count": null,
      "outputs": []
    },
    {
      "cell_type": "markdown",
      "source": [
        "`conditionalfreqdist`: \\\n",
        "문맥을 조건으로 가지는 사전 자료형\n",
        "-"
      ],
      "metadata": {
        "id": "kNZUb-kOmRoG"
      }
    },
    {
      "cell_type": "code",
      "source": [
        "from nltk.util import ngrams\n",
        "from nltk import ConditionalFreqDist\n",
        "import nltk\n",
        "nltk.download('movie_reviews')\n",
        "nltk.download('punkt')\n",
        "from nltk.corpus import movie_reviews\n",
        "\n",
        "sentences = []\n",
        "for tokens in movie_reviews.sents():\n",
        "    bigram = ngrams(tokens, 2, pad_left=True, pad_right=True, left_pad_symbol=\"SS\", right_pad_symbol=\"SE\")\n",
        "    sentences += [t for t in bigram]\n",
        "\n",
        "cfd = ConditionalFreqDist(sentences)"
      ],
      "metadata": {
        "colab": {
          "base_uri": "https://localhost:8080/"
        },
        "id": "_ftrxnqfkV2c",
        "outputId": "e1e551fd-6bdf-45e4-811a-ab2a018025e5"
      },
      "execution_count": null,
      "outputs": [
        {
          "output_type": "stream",
          "name": "stderr",
          "text": [
            "[nltk_data] Downloading package movie_reviews to /root/nltk_data...\n",
            "[nltk_data]   Package movie_reviews is already up-to-date!\n",
            "[nltk_data] Downloading package punkt to /root/nltk_data...\n",
            "[nltk_data]   Package punkt is already up-to-date!\n"
          ]
        }
      ]
    },
    {
      "cell_type": "code",
      "source": [
        "cfd[\"SS\"].most_common(5)\n",
        "# 문장의 시작에는 the, it, I 와 같은 determiner나 대명사(주어)가 많구나"
      ],
      "metadata": {
        "colab": {
          "base_uri": "https://localhost:8080/"
        },
        "id": "J6__kVXLkz36",
        "outputId": "b1900700-703d-4887-821f-217c49333d1f"
      },
      "execution_count": null,
      "outputs": [
        {
          "output_type": "execute_result",
          "data": {
            "text/plain": [
              "[('the', 7965), ('it', 3038), ('i', 2350), ('but', 1754), ('he', 1642)]"
            ]
          },
          "metadata": {},
          "execution_count": 67
        }
      ]
    },
    {
      "cell_type": "code",
      "source": [
        "cfd[\"i\"].most_common(5)\n",
        "# i 라는 문자(ch)가 아닌 word 뒤에는 (token 단위이니까) modals(조동사)와 be, do 와 같은 AUX verb가 많구나\n",
        "# apherstrope도 있네 아마 축약형으로 많이 쓰이기 때문이겠지"
      ],
      "metadata": {
        "colab": {
          "base_uri": "https://localhost:8080/"
        },
        "id": "QVH4fjl6lth5",
        "outputId": "242c250a-9aaf-4272-8172-6ef1ec0f1d67"
      },
      "execution_count": null,
      "outputs": [
        {
          "output_type": "execute_result",
          "data": {
            "text/plain": [
              "[(\"'\", 1357), ('was', 506), ('can', 351), ('have', 330), ('don', 276)]"
            ]
          },
          "metadata": {},
          "execution_count": 68
        }
      ]
    },
    {
      "cell_type": "code",
      "source": [
        "cfd[\".\"].most_common(5)\n",
        "# dot는 문장 끝의 역할이 젤 많고, 기호들도 많네 puctuation들"
      ],
      "metadata": {
        "colab": {
          "base_uri": "https://localhost:8080/"
        },
        "id": "fuGkFk7Tl1Z6",
        "outputId": "7ed27a29-36ec-4123-c7e6-db098c549b5f"
      },
      "execution_count": null,
      "outputs": [
        {
          "output_type": "execute_result",
          "data": {
            "text/plain": [
              "[('SE', 57626), ('.', 1893), ('\"', 1854), (')', 535), ('s', 129)]"
            ]
          },
          "metadata": {},
          "execution_count": 69
        }
      ]
    },
    {
      "cell_type": "code",
      "source": [
        "import matplotlib.pyplot as plt\n",
        "plt.subplot(311)\n",
        "cfd[\"SS\"].plot(5, title='문장의 첫단어 분포')\n",
        "plt.show()\n",
        "# 글자 깨지는 오류 외워두기"
      ],
      "metadata": {
        "colab": {
          "base_uri": "https://localhost:8080/",
          "height": 467
        },
        "id": "BngnlQWZl7NH",
        "outputId": "91aacc80-a84a-4de0-f8b8-0341c918ee4a"
      },
      "execution_count": null,
      "outputs": [
        {
          "output_type": "stream",
          "name": "stderr",
          "text": [
            "/usr/local/lib/python3.9/dist-packages/IPython/core/pylabtools.py:128: UserWarning: Glyph 47928 (\\N{HANGUL SYLLABLE MUN}) missing from current font.\n",
            "  fig.canvas.print_figure(bytes_io, **kw)\n",
            "/usr/local/lib/python3.9/dist-packages/IPython/core/pylabtools.py:128: UserWarning: Glyph 51109 (\\N{HANGUL SYLLABLE JANG}) missing from current font.\n",
            "  fig.canvas.print_figure(bytes_io, **kw)\n",
            "/usr/local/lib/python3.9/dist-packages/IPython/core/pylabtools.py:128: UserWarning: Glyph 51032 (\\N{HANGUL SYLLABLE YI}) missing from current font.\n",
            "  fig.canvas.print_figure(bytes_io, **kw)\n",
            "/usr/local/lib/python3.9/dist-packages/IPython/core/pylabtools.py:128: UserWarning: Glyph 52395 (\\N{HANGUL SYLLABLE CEOS}) missing from current font.\n",
            "  fig.canvas.print_figure(bytes_io, **kw)\n",
            "/usr/local/lib/python3.9/dist-packages/IPython/core/pylabtools.py:128: UserWarning: Glyph 45800 (\\N{HANGUL SYLLABLE DAN}) missing from current font.\n",
            "  fig.canvas.print_figure(bytes_io, **kw)\n",
            "/usr/local/lib/python3.9/dist-packages/IPython/core/pylabtools.py:128: UserWarning: Glyph 50612 (\\N{HANGUL SYLLABLE EO}) missing from current font.\n",
            "  fig.canvas.print_figure(bytes_io, **kw)\n",
            "/usr/local/lib/python3.9/dist-packages/IPython/core/pylabtools.py:128: UserWarning: Glyph 48516 (\\N{HANGUL SYLLABLE BUN}) missing from current font.\n",
            "  fig.canvas.print_figure(bytes_io, **kw)\n",
            "/usr/local/lib/python3.9/dist-packages/IPython/core/pylabtools.py:128: UserWarning: Glyph 54252 (\\N{HANGUL SYLLABLE PO}) missing from current font.\n",
            "  fig.canvas.print_figure(bytes_io, **kw)\n"
          ]
        },
        {
          "output_type": "display_data",
          "data": {
            "text/plain": [
              "<Figure size 432x288 with 1 Axes>"
            ],
            "image/png": "[encoded data removed]"
          },
          "metadata": {
            "needs_background": "light"
          }
        }
      ]
    },
    {
      "cell_type": "code",
      "source": [
        "plt.subplot(311)\n",
        "cfd[\"SS\"].plot(5, title=\"Distribution of first word of a sentence\")\n",
        "plt.subplot(312)\n",
        "cfd[\"i\"].plot(5, title=\"Distribution of next word of 'i'\")\n",
        "plt.subplot(313)\n",
        "cfd[\".\"].plot(5, title=\"Distribution of next word of '.'\")"
      ],
      "metadata": {
        "colab": {
          "base_uri": "https://localhost:8080/",
          "height": 433
        },
        "id": "JYwu_vnBpeJT",
        "outputId": "58873cd7-263e-4082-f522-0c25f15fc636"
      },
      "execution_count": null,
      "outputs": [
        {
          "output_type": "display_data",
          "data": {
            "text/plain": [
              "<Figure size 432x288 with 1 Axes>"
            ],
            "image/png": "[encoded data removed]"
          },
          "metadata": {
            "needs_background": "light"
          }
        },
        {
          "output_type": "display_data",
          "data": {
            "text/plain": [
              "<Figure size 432x288 with 1 Axes>"
            ],
            "image/png": "[encoded data removed]"
          },
          "metadata": {
            "needs_background": "light"
          }
        },
        {
          "output_type": "display_data",
          "data": {
            "text/plain": [
              "<Figure size 432x288 with 1 Axes>"
            ],
            "image/png": "[encoded data removed]"
          },
          "metadata": {
            "needs_background": "light"
          }
        },
        {
          "output_type": "execute_result",
          "data": {
            "text/plain": [
              "<AxesSubplot:title={'center':\"Distribution of next word of '.'\"}, xlabel='Samples', ylabel='Counts'>"
            ]
          },
          "metadata": {},
          "execution_count": 76
        }
      ]
    },
    {
      "cell_type": "markdown",
      "source": [
        "중요한것 조건부 확률이라는 것에 근거한 쓰임새라는 것 (이 함수, 클래스를 배울때):\\\n",
        "MLEProbDist 랑 라이브러리 인포트 하는 식 잘 외워두기"
      ],
      "metadata": {
        "id": "fpaPnsQ-qLS4"
      }
    },
    {
      "cell_type": "code",
      "source": [
        "from nltk.probability import ConditionalProbDist, MLEProbDist\n",
        "cpd = ConditionalProbDist(cfd, MLEProbDist) # 두개의 인자전달\n",
        "# training"
      ],
      "metadata": {
        "id": "6kqTdsSXra2x"
      },
      "execution_count": null,
      "outputs": []
    },
    {
      "cell_type": "code",
      "source": [
        "cpd['i'].prob('am')\n",
        "# i 다음에 올 단어가 am 일 확률\n",
        "# 특정 word가 바이그램일 확률 / i가 conditon으로 들어간 모든 확률(i가 condition으로 들어가 있는 모든 tuple의 갯수)"
      ],
      "metadata": {
        "colab": {
          "base_uri": "https://localhost:8080/"
        },
        "id": "7Vv_c9QTqZRN",
        "outputId": "7a264d90-0139-4222-9c9e-4a65a1df0f3c"
      },
      "execution_count": null,
      "outputs": [
        {
          "output_type": "execute_result",
          "data": {
            "text/plain": [
              "0.018562267971650354"
            ]
          },
          "metadata": {},
          "execution_count": 81
        }
      ]
    },
    {
      "cell_type": "code",
      "source": [
        "cpd['i'].prob('is')"
      ],
      "metadata": {
        "colab": {
          "base_uri": "https://localhost:8080/"
        },
        "id": "Z0DpLM-9r3LP",
        "outputId": "fa95e4d6-0f82-4bbd-bfa5-ccb670e358ad"
      },
      "execution_count": null,
      "outputs": [
        {
          "output_type": "execute_result",
          "data": {
            "text/plain": [
              "0.0002249971875351558"
            ]
          },
          "metadata": {},
          "execution_count": 82
        }
      ]
    },
    {
      "cell_type": "code",
      "source": [
        "cpd['we'].prob('are')"
      ],
      "metadata": {
        "colab": {
          "base_uri": "https://localhost:8080/"
        },
        "id": "KrHIsBAJr6qc",
        "outputId": "6262d230-e995-4526-c1db-a1a3744a8b11"
      },
      "execution_count": null,
      "outputs": [
        {
          "output_type": "execute_result",
          "data": {
            "text/plain": [
              "0.08504504504504505"
            ]
          },
          "metadata": {},
          "execution_count": 83
        }
      ]
    },
    {
      "cell_type": "code",
      "source": [
        "cpd['we'].prob('is')\n",
        "# 이게 문법적으로 틀렸다는 것을 확률적으로 인지가 가능하다."
      ],
      "metadata": {
        "colab": {
          "base_uri": "https://localhost:8080/"
        },
        "id": "8LqoYkawr9fK",
        "outputId": "ef5a35f4-22d0-4876-e94c-75fd77228d9a"
      },
      "execution_count": null,
      "outputs": [
        {
          "output_type": "execute_result",
          "data": {
            "text/plain": [
              "0.0"
            ]
          },
          "metadata": {},
          "execution_count": 84
        }
      ]
    },
    {
      "cell_type": "markdown",
      "source": [
        "정확해.. 그래서 이 모델은 문장 생성 모델을 만들어줄 수 있어\n",
        "## 바이그램 언어모형\n",
        "- 조건부 확률을 알게 되면, 각 문장의 확률을 구할 수 있어\n",
        "- 토큰열(토큰 분해된 문장 단위)을 n-그램 형태로 분해해\n",
        "- **`전체 문장의 확률은 조건부 확률의 곱으로 나타낼 수 있어`*\n",
        "- 너무 중요함: 전체 문장의 확률 식을 처음에 봤었잖아\n",
        "- 이게 방금 전까지 배운 조건부 확률 모델로 전체 문장의 확률로 확장해 볼 수 있는거야\n",
        "- 단위를 잘 생각해야 해: 문장별로 나오는걸 볼 수 있고 word 별로 볼 수 있고 그래서 내가 아까 생각난 것은 i was와 같은건 word vector 생성이 이외에 의미를 부여하기에는 문서별로 다르지 않기 때문에 의미 부여는 어려울 수 있겠다 싶어"
      ],
      "metadata": {
        "id": "VWPpUHNnr_9y"
      }
    },
    {
      "cell_type": "code",
      "source": [
        "import numpy as np\n",
        "def sentence_score(s):\n",
        "  p = 0.0\n",
        "  for i in range(len(s) - 1):\n",
        "    c = s[i]\n",
        "    w = s[i+1]\n",
        "    p += np.log(cpd[c].prob(w) + np.finfo(float).eps)\n",
        "  return np.exp(p)"
      ],
      "metadata": {
        "id": "JjFOwbMbwAHY"
      },
      "execution_count": null,
      "outputs": []
    },
    {
      "cell_type": "code",
      "source": [
        "# numpy.finfo\n",
        "# => 가장 작은 양수 (엡실론)의 역할로, 로그함수를 취했을때 0의 값이 되지 않도록 도와주는 친구임\n",
        "# 그럼 여기서 로그는 왜 취하는거지?"
      ],
      "metadata": {
        "id": "j0cRZzxjyXcg"
      },
      "execution_count": null,
      "outputs": []
    },
    {
      "cell_type": "code",
      "source": [
        "test_sentence = 'I like the movie .'.split()\n",
        "sentence_score(test_sentence)\n",
        "# 문장 리스트를 넣었을때, 이게 얼마나 말이 되는지의 확률\n",
        "# 전체 문장확률 = 문장이 딱 그렇게 구성될 확률"
      ],
      "metadata": {
        "colab": {
          "base_uri": "https://localhost:8080/"
        },
        "id": "q29_eo0mwZlg",
        "outputId": "07189f75-4bb8-44a5-d154-e437876b592a"
      },
      "execution_count": null,
      "outputs": [
        {
          "output_type": "execute_result",
          "data": {
            "text/plain": [
              "8.586659562486254e-20"
            ]
          },
          "metadata": {},
          "execution_count": 88
        }
      ]
    },
    {
      "cell_type": "code",
      "source": [
        "test = 'I like the . movie'.split()\n",
        "sentence_score(test)\n",
        "# 위에 비해서 엄청 낮을 걸 볼수 있지\n",
        "# 문법 검사기도 비슷한 로직으로 만들것 같아"
      ],
      "metadata": {
        "colab": {
          "base_uri": "https://localhost:8080/"
        },
        "id": "DjtCZy0vAX1c",
        "outputId": "e5d31075-5fb8-4c79-deea-36c7ef87040e"
      },
      "execution_count": null,
      "outputs": [
        {
          "output_type": "execute_result",
          "data": {
            "text/plain": [
              "1.7474376016692618e-26"
            ]
          },
          "metadata": {},
          "execution_count": 11
        }
      ]
    },
    {
      "cell_type": "code",
      "source": [
        "# one more testing\n",
        "te2 = 'like . I me movie'.split()\n",
        "sentence_score(te2)"
      ],
      "metadata": {
        "colab": {
          "base_uri": "https://localhost:8080/"
        },
        "id": "YvK3T0sWBQ-J",
        "outputId": "420e8419-bd65-4256-abe2-ef95ccc1c492"
      },
      "execution_count": null,
      "outputs": [
        {
          "output_type": "execute_result",
          "data": {
            "text/plain": [
              "1.1273996791231601e-49"
            ]
          },
          "metadata": {},
          "execution_count": 12
        }
      ]
    },
    {
      "cell_type": "markdown",
      "source": [
        "전체 문장의 확률의 의미를 모르겠음> 질문 : 해결!"
      ],
      "metadata": {
        "id": "L7OYgVDJwZ5E"
      }
    },
    {
      "cell_type": "markdown",
      "source": [
        "### 문장 생성모델 (generative model)\n",
        "- 위 바이그램 모델을 바탕으로, 임의의 랜덤한 문장을 생성할 수 있어"
      ],
      "metadata": {
        "id": "U5TVLIsju9hZ"
      }
    },
    {
      "cell_type": "code",
      "source": [
        "# cpd 모델 좀 더 공부 ..! (메서드 뭐 있는지)\n",
        "def generate_sentence(seed=None):\n",
        "  if seed is not None:\n",
        "    import random\n",
        "    random.seed(seed)\n",
        "  c = \"SS\"\n",
        "  sentence = []\n",
        "  while True:\n",
        "    if c not in cpd:\n",
        "      break\n",
        "    w = cpd[c].generate()\n",
        "\n",
        "    if w == 'SE':\n",
        "      break\n",
        "    elif w in ['', '', '']:\n",
        "      w2 =w.upper()"
      ],
      "metadata": {
        "id": "GrGsG08Hu_hH"
      },
      "execution_count": null,
      "outputs": []
    },
    {
      "cell_type": "markdown",
      "source": [
        "1-45 랜점하게 난수를 발생시킬 경우에\n",
        "seed => 프로그램\n",
        "일정한 규칙대로 나오는 경우가 있어 (프로그램 오류) => 일정한 패턴으로 13579\n",
        "- 1234: 계속 초기화가 되면서 좀더 랜덤 한 수를 뽑아낼때, 규칙적으로 나오는걸 배재할 수 있음\n",
        "- 1234의 뜻은?\n",
        "- 재현성 확보를 위해"
      ],
      "metadata": {
        "id": "ywJh1q63941_"
      }
    },
    {
      "cell_type": "code",
      "source": [
        "import nltk\n",
        "nltk.download() ==quiet"
      ],
      "metadata": {
        "id": "R50aZ6Nw2Fi4"
      },
      "execution_count": null,
      "outputs": []
    },
    {
      "cell_type": "code",
      "source": [
        "nltk.download('book', quiet=True)"
      ],
      "metadata": {
        "colab": {
          "base_uri": "https://localhost:8080/"
        },
        "id": "Z6eyE_HU2MLT",
        "outputId": "e70b1cd5-bfcf-4d9a-93e1-3c01ee21296c"
      },
      "execution_count": null,
      "outputs": [
        {
          "output_type": "execute_result",
          "data": {
            "text/plain": [
              "True"
            ]
          },
          "metadata": {},
          "execution_count": 2
        }
      ]
    },
    {
      "cell_type": "code",
      "source": [
        "from nltk.book import *"
      ],
      "metadata": {
        "colab": {
          "base_uri": "https://localhost:8080/"
        },
        "id": "00DlEC6c2Tg7",
        "outputId": "58dd8a6f-4744-4bb9-b4c7-ef51e6a32840"
      },
      "execution_count": null,
      "outputs": [
        {
          "output_type": "stream",
          "name": "stdout",
          "text": [
            "*** Introductory Examples for the NLTK Book ***\n",
            "Loading text1, ..., text9 and sent1, ..., sent9\n",
            "Type the name of the text or sentence to view it.\n",
            "Type: 'texts()' or 'sents()' to list the materials.\n",
            "text1: Moby Dick by Herman Melville 1851\n",
            "text2: Sense and Sensibility by Jane Austen 1811\n",
            "text3: The Book of Genesis\n",
            "text4: Inaugural Address Corpus\n",
            "text5: Chat Corpus\n",
            "text6: Monty Python and the Holy Grail\n",
            "text7: Wall Street Journal\n",
            "text8: Personals Corpus\n",
            "text9: The Man Who Was Thursday by G . K . Chesterton 1908\n"
          ]
        }
      ]
    },
    {
      "cell_type": "code",
      "source": [
        "from nltk.corpus import gutenberg\n",
        "\n",
        "gutenberg.fileids()"
      ],
      "metadata": {
        "colab": {
          "base_uri": "https://localhost:8080/"
        },
        "id": "Ab3p1Avp2gL5",
        "outputId": "6a74783a-0ec6-4e0c-e24c-3df005f7f91b"
      },
      "execution_count": null,
      "outputs": [
        {
          "output_type": "execute_result",
          "data": {
            "text/plain": [
              "['austen-emma.txt',\n",
              " 'austen-persuasion.txt',\n",
              " 'austen-sense.txt',\n",
              " 'bible-kjv.txt',\n",
              " 'blake-poems.txt',\n",
              " 'bryant-stories.txt',\n",
              " 'burgess-busterbrown.txt',\n",
              " 'carroll-alice.txt',\n",
              " 'chesterton-ball.txt',\n",
              " 'chesterton-brown.txt',\n",
              " 'chesterton-thursday.txt',\n",
              " 'edgeworth-parents.txt',\n",
              " 'melville-moby_dick.txt',\n",
              " 'milton-paradise.txt',\n",
              " 'shakespeare-caesar.txt',\n",
              " 'shakespeare-hamlet.txt',\n",
              " 'shakespeare-macbeth.txt',\n",
              " 'whitman-leaves.txt']"
            ]
          },
          "metadata": {},
          "execution_count": 5
        }
      ]
    },
    {
      "cell_type": "code",
      "source": [
        "# nltk.corpus.gutenberg\n",
        "# nltk.corpus.gutenberg.raw('shakespeare-hamlet')\n",
        "raw_text = gutenberg.raw('shakespeare-hamlet.txt')"
      ],
      "metadata": {
        "id": "IEysILXv4BG0"
      },
      "execution_count": null,
      "outputs": []
    },
    {
      "cell_type": "code",
      "source": [
        "print(raw_text[:100]) #string"
      ],
      "metadata": {
        "colab": {
          "base_uri": "https://localhost:8080/"
        },
        "id": "kRPmFumd4LBz",
        "outputId": "6fbd6e34-e916-4627-b17e-4336bb0d3f60"
      },
      "execution_count": null,
      "outputs": [
        {
          "output_type": "stream",
          "name": "stdout",
          "text": [
            "[The Tragedie of Hamlet by William Shakespeare 1599]\n",
            "\n",
            "\n",
            "Actus Primus. Scoena Prima.\n",
            "\n",
            "Enter Barnardo a\n"
          ]
        }
      ]
    },
    {
      "cell_type": "code",
      "source": [
        "from nltk.tokenize import word_tokenized\n",
        "from nltk.tokenize import sent_tokenized\n",
        "# referent 가 동일 -> 다른 단어들\n",
        "# word embedding not word freq_count_vectorizer\n",
        "\n",
        "word_tokenized(raw_text)"
      ],
      "metadata": {
        "colab": {
          "base_uri": "https://localhost:8080/",
          "height": 381
        },
        "id": "j4KNaUaw22lo",
        "outputId": "f89b2bfb-97f0-4a4d-8ce7-7457b455a54e"
      },
      "execution_count": null,
      "outputs": [
        {
          "output_type": "error",
          "ename": "ImportError",
          "evalue": "ignored",
          "traceback": [
            "\u001b[0;31m---------------------------------------------------------------------------\u001b[0m",
            "\u001b[0;31mImportError\u001b[0m                               Traceback (most recent call last)",
            "\u001b[0;32m<ipython-input-12-07632307d80c>\u001b[0m in \u001b[0;36m<cell line: 1>\u001b[0;34m()\u001b[0m\n\u001b[0;32m----> 1\u001b[0;31m \u001b[0;32mfrom\u001b[0m \u001b[0mnltk\u001b[0m\u001b[0;34m.\u001b[0m\u001b[0mtokenize\u001b[0m \u001b[0;32mimport\u001b[0m \u001b[0mword_tokenized\u001b[0m\u001b[0;34m\u001b[0m\u001b[0;34m\u001b[0m\u001b[0m\n\u001b[0m\u001b[1;32m      2\u001b[0m \u001b[0;32mfrom\u001b[0m \u001b[0mnltk\u001b[0m\u001b[0;34m.\u001b[0m\u001b[0mtokenize\u001b[0m \u001b[0;32mimport\u001b[0m \u001b[0msent_tokenized\u001b[0m\u001b[0;34m\u001b[0m\u001b[0;34m\u001b[0m\u001b[0m\n\u001b[1;32m      3\u001b[0m \u001b[0;34m\u001b[0m\u001b[0m\n\u001b[1;32m      4\u001b[0m \u001b[0mword_tokenized\u001b[0m\u001b[0;34m(\u001b[0m\u001b[0mraw_text\u001b[0m\u001b[0;34m)\u001b[0m\u001b[0;34m\u001b[0m\u001b[0;34m\u001b[0m\u001b[0m\n",
            "\u001b[0;31mImportError\u001b[0m: cannot import name 'word_tokenized' from 'nltk.tokenize' (/usr/local/lib/python3.9/dist-packages/nltk/tokenize/__init__.py)",
            "",
            "\u001b[0;31m---------------------------------------------------------------------------\u001b[0;32m\nNOTE: If your import is failing due to a missing package, you can\nmanually install dependencies using either !pip or !apt.\n\nTo view examples of installing some common dependencies, click the\n\"Open Examples\" button below.\n\u001b[0;31m---------------------------------------------------------------------------\u001b[0m\n"
          ],
          "errorDetails": {
            "actions": [
              {
                "action": "open_url",
                "actionText": "Open Examples",
                "url": "/notebooks/snippets/importing_libraries.ipynb"
              }
            ]
          }
        }
      ]
    },
    {
      "cell_type": "code",
      "source": [],
      "metadata": {
        "id": "AzC1Xh7U4fqX"
      },
      "execution_count": null,
      "outputs": []
    }
  ]
}