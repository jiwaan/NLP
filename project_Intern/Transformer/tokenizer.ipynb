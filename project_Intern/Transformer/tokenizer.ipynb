{
 "cells": [
  {
   "cell_type": "code",
   "execution_count": 1,
   "metadata": {},
   "outputs": [
    {
     "name": "stdout",
     "output_type": "stream",
     "text": [
      "[CLS] hello world [SEP]\n"
     ]
    }
   ],
   "source": [
    "import torch\n",
    "from transformers import BertTokenizer\n",
    "\n",
    "# Load the tokenizer\n",
    "tokenizer = BertTokenizer.from_pretrained('bert-base-uncased')\n",
    "\n",
    "# Example input tokens\n",
    "input_tokens = ['[CLS]', 'hello', 'world', '[SEP]']\n",
    "\n",
    "# Convert tokens to tensor\n",
    "input_ids = torch.tensor([tokenizer.convert_tokens_to_ids(input_tokens)])\n",
    "\n",
    "# Decode tokens\n",
    "decoded_tokens = tokenizer.decode(input_ids.squeeze().tolist())\n",
    "\n",
    "print(decoded_tokens)\n"
   ]
  },
  {
   "cell_type": "code",
   "execution_count": 3,
   "metadata": {},
   "outputs": [
    {
     "name": "stdout",
     "output_type": "stream",
     "text": [
      "tensor([[ 101, 7592, 2088,  102]])\n"
     ]
    }
   ],
   "source": [
    "print(input_ids)"
   ]
  },
  {
   "cell_type": "code",
   "execution_count": 4,
   "metadata": {},
   "outputs": [
    {
     "name": "stdout",
     "output_type": "stream",
     "text": [
      "tensor([[ 101, 7592, 2088,  102]])\n"
     ]
    }
   ],
   "source": [
    "import torch\n",
    "from transformers import BertTokenizer\n",
    "\n",
    "# Load the tokenizer\n",
    "tokenizer = BertTokenizer.from_pretrained('bert-base-uncased')\n",
    "\n",
    "# Example input string\n",
    "input_text = 'hello world'\n",
    "\n",
    "# Tokenize the input text\n",
    "input_ids = tokenizer(input_text)['input_ids']\n",
    "\n",
    "# Convert tokens to tensor\n",
    "input_ids = torch.tensor([input_ids])\n",
    "\n",
    "print(input_ids)\n"
   ]
  },
  {
   "cell_type": "code",
   "execution_count": 5,
   "metadata": {},
   "outputs": [
    {
     "name": "stdout",
     "output_type": "stream",
     "text": [
      "[CLS] hello world [SEP]\n"
     ]
    }
   ],
   "source": [
    "import torch\n",
    "from transformers import BertTokenizer\n",
    "\n",
    "# Load the tokenizer\n",
    "tokenizer = BertTokenizer.from_pretrained('bert-base-uncased')\n",
    "\n",
    "# Example input string\n",
    "input_text = 'hello world'\n",
    "\n",
    "# Tokenize the input text\n",
    "input_ids = tokenizer(input_text)['input_ids']\n",
    "\n",
    "# Convert tokens to tensor\n",
    "input_ids = torch.tensor([input_ids])\n",
    "\n",
    "# Decode the input tokens\n",
    "decoded_text = tokenizer.decode(input_ids[0])\n",
    "\n",
    "print(decoded_text)\n"
   ]
  },
  {
   "cell_type": "code",
   "execution_count": null,
   "metadata": {},
   "outputs": [],
   "source": []
  }
 ],
 "metadata": {
  "kernelspec": {
   "display_name": "Python 3",
   "language": "python",
   "name": "python3"
  },
  "language_info": {
   "codemirror_mode": {
    "name": "ipython",
    "version": 3
   },
   "file_extension": ".py",
   "mimetype": "text/x-python",
   "name": "python",
   "nbconvert_exporter": "python",
   "pygments_lexer": "ipython3",
   "version": "3.9.12"
  },
  "orig_nbformat": 4
 },
 "nbformat": 4,
 "nbformat_minor": 2
}
